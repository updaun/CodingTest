{
 "cells": [
  {
   "cell_type": "code",
   "execution_count": 1,
   "metadata": {},
   "outputs": [
    {
     "name": "stdout",
     "output_type": "stream",
     "text": [
      "[[4, 1], [5, 2], [6, 3]]\n"
     ]
    }
   ],
   "source": [
    "k = [[1, 2, 3],\n",
    "     [4, 5, 6]]\n",
    "\n",
    "# 시계 방향 회전\n",
    "li = [list(k[::-1]) for k in zip(*k)]\n",
    "# zip를 써서 각 인덱스의 모든 element를 한 iterator에 넣고 asterisk를 이용하여 풀어서 회전 알고리즘을 구현\n",
    "# ex. k = [[1, 2, 3], [4, 5, 6]]    -> 원하는 출력 form: [[4, 1], [5, 2], [6, 3]]\n",
    "# zip(*k) - 1. [1, 4]   -> k[::-1]  = [4, 1]\n",
    "#           2. [2, 5]   -> k[::-1]  = [5, 2]\n",
    "#           3. [3, 6]   -> k[::-1]  = [6, 3]\n",
    "print(li)\n",
    "\n"
   ]
  },
  {
   "cell_type": "code",
   "execution_count": 2,
   "metadata": {},
   "outputs": [
    {
     "name": "stdout",
     "output_type": "stream",
     "text": [
      "[[3, 6], [2, 5], [1, 4]]\n"
     ]
    }
   ],
   "source": [
    "# 반 시계 방향 회전\n",
    "li = [list(k) for k in reversed(tuple(zip(*k)))]\n",
    "# 시계 방향과 동일한 방식이지만, reversed 키워드를 사용하여 배열의 역순 탐색이 가능하게 함\n",
    "# ex. k = [[1, 2, 3], [4, 5, 6]]    -> 원하는 출력 form: [[3, 6], [2, 5], [1, 4]]\n",
    "# reversed(tuple(zip(*k)) - 1. [3, 6]\n",
    "#                           2. [2, 5]\n",
    "#                           3. [1, 4]\n",
    "print(li)"
   ]
  }
 ],
 "metadata": {
  "interpreter": {
   "hash": "247ab06e135bb35fa78c5eff31b2a9a0050dcb5fb773c2631d2a29ac689eeccb"
  },
  "kernelspec": {
   "display_name": "Python 3.9.7 64-bit",
   "language": "python",
   "name": "python3"
  },
  "language_info": {
   "codemirror_mode": {
    "name": "ipython",
    "version": 3
   },
   "file_extension": ".py",
   "mimetype": "text/x-python",
   "name": "python",
   "nbconvert_exporter": "python",
   "pygments_lexer": "ipython3",
   "version": "3.9.7"
  },
  "orig_nbformat": 4
 },
 "nbformat": 4,
 "nbformat_minor": 2
}
