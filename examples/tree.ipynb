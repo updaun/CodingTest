{
 "cells": [
  {
   "cell_type": "markdown",
   "metadata": {},
   "source": [
    "Tree"
   ]
  },
  {
   "cell_type": "code",
   "execution_count": 1,
   "metadata": {},
   "outputs": [],
   "source": [
    "class 트리:\n",
    "    def __init__(self, 데이터):\n",
    "        self.데이터 = 데이터\n",
    "        self.자식 = []\n",
    "        self.부모 = None\n",
    "    \n",
    "    def 신규노드(self, 신규노드):\n",
    "        신규노드.부모 = self\n",
    "        self.자식.append(신규노드)"
   ]
  },
  {
   "cell_type": "code",
   "execution_count": 8,
   "metadata": {},
   "outputs": [],
   "source": [
    "root = 트리(\"프로그래밍 공부\")\n",
    "html = 트리(\"HTML\")\n",
    "html.신규노드(트리(\"001.html\"))\n",
    "html.신규노드(트리(\"002.html\"))\n",
    "html.신규노드(트리(\"003.html\"))\n",
    "root.신규노드(html)\n",
    "\n",
    "css = 트리(\"CSS\")\n",
    "css.신규노드(트리(\"001.css\"))\n",
    "css.신규노드(트리(\"002.css\"))\n",
    "css.신규노드(트리(\"003.css\"))\n",
    "root.신규노드(css)\n",
    "\n",
    "javascript = 트리(\"JS\")\n",
    "javascript.신규노드(트리(\"001.js\"))\n",
    "javascript.신규노드(트리(\"002.js\"))\n",
    "javascript.신규노드(트리(\"003.js\"))\n",
    "root.신규노드(javascript)\n",
    "\n",
    "python = 트리(\"Python\")\n",
    "python.신규노드(트리(\"001.py\"))\n",
    "python.신규노드(트리(\"002.py\"))\n",
    "python.신규노드(트리(\"003.py\"))\n",
    "root.신규노드(python)\n",
    "\n",
    "python_프로젝트폴더 = 트리(\"프로젝트폴더\")\n",
    "python_프로젝트폴더.신규노드(트리(\"p001.py\"))\n",
    "python.신규노드(python_프로젝트폴더)"
   ]
  },
  {
   "cell_type": "code",
   "execution_count": 9,
   "metadata": {},
   "outputs": [
    {
     "data": {
      "text/plain": [
       "'001.html'"
      ]
     },
     "execution_count": 9,
     "metadata": {},
     "output_type": "execute_result"
    }
   ],
   "source": [
    "root\n",
    "root.자식\n",
    "root.자식[0].자식\n",
    "root.자식[0].자식[0].데이터"
   ]
  },
  {
   "cell_type": "code",
   "execution_count": 11,
   "metadata": {},
   "outputs": [
    {
     "data": {
      "text/plain": [
       "'p001.py'"
      ]
     },
     "execution_count": 11,
     "metadata": {},
     "output_type": "execute_result"
    }
   ],
   "source": [
    "root.자식[3].자식[3].자식[0].데이터"
   ]
  },
  {
   "cell_type": "code",
   "execution_count": null,
   "metadata": {},
   "outputs": [],
   "source": [
    "\n",
    "\n"
   ]
  },
  {
   "cell_type": "code",
   "execution_count": 20,
   "metadata": {},
   "outputs": [],
   "source": [
    "class 트리:\n",
    "    def __init__(self, 데이터):\n",
    "        self.데이터 = 데이터\n",
    "        self.자식 = []\n",
    "        self.부모 = None\n",
    "    \n",
    "    def 신규노드(self, 신규노드):\n",
    "        신규노드.부모 = self\n",
    "        self.자식.append(신규노드)\n",
    "\n",
    "    def __str__(self):\n",
    "        if self.부모:\n",
    "            if self.부모:\n",
    "                if self.부모.자식[-1] != self:\n",
    "                    경로 = (\" \" * self.레벨()*4) + \" ├─\"\n",
    "                else:\n",
    "                    경로 = (\" \" * self.레벨()*4) + \" └─\"\n",
    "        else:\n",
    "            경로 = ''\n",
    "        print(경로 + self.데이터)\n",
    "        # return\n",
    "        if self.자식:\n",
    "            for 노드 in self.자식:\n",
    "                노드.__str__()\n",
    "            return ''\n",
    "\n",
    "    def 레벨(self):\n",
    "        레벨 = 0\n",
    "        노드 = self.부모\n",
    "        while 노드:\n",
    "            레벨 += 1\n",
    "            노드 = 노드.부모\n",
    "        return 레벨\n",
    "\n",
    "\n",
    "root = 트리(\"프로그래밍 공부\")\n",
    "html = 트리(\"HTML\")\n",
    "html.신규노드(트리(\"001.html\"))\n",
    "html.신규노드(트리(\"002.html\"))\n",
    "html.신규노드(트리(\"003.html\"))\n",
    "root.신규노드(html)\n",
    "\n",
    "css = 트리(\"CSS\")\n",
    "css.신규노드(트리(\"001.css\"))\n",
    "css.신규노드(트리(\"002.css\"))\n",
    "css.신규노드(트리(\"003.css\"))\n",
    "root.신규노드(css)\n",
    "\n",
    "javascript = 트리(\"JS\")\n",
    "javascript.신규노드(트리(\"001.js\"))\n",
    "javascript.신규노드(트리(\"002.js\"))\n",
    "javascript.신규노드(트리(\"003.js\"))\n",
    "root.신규노드(javascript)\n",
    "\n",
    "python = 트리(\"Python\")\n",
    "python.신규노드(트리(\"001.py\"))\n",
    "python.신규노드(트리(\"002.py\"))\n",
    "python.신규노드(트리(\"003.py\"))\n",
    "root.신규노드(python)\n",
    "\n",
    "python_프로젝트폴더 = 트리(\"프로젝트폴더\")\n",
    "python_프로젝트폴더.신규노드(트리(\"p001.py\"))\n",
    "python.신규노드(python_프로젝트폴더)"
   ]
  },
  {
   "cell_type": "code",
   "execution_count": 21,
   "metadata": {},
   "outputs": [
    {
     "name": "stdout",
     "output_type": "stream",
     "text": [
      "프로그래밍 공부\n",
      "     ├─HTML\n",
      "         ├─001.html\n",
      "         ├─002.html\n",
      "         └─003.html\n",
      "     ├─CSS\n",
      "         ├─001.css\n",
      "         ├─002.css\n",
      "         └─003.css\n",
      "     ├─JS\n",
      "         ├─001.js\n",
      "         ├─002.js\n",
      "         └─003.js\n",
      "     └─Python\n",
      "         ├─001.py\n",
      "         ├─002.py\n",
      "         ├─003.py\n",
      "         └─프로젝트폴더\n",
      "             └─p001.py\n",
      "\n"
     ]
    }
   ],
   "source": [
    "print(root)"
   ]
  },
  {
   "cell_type": "code",
   "execution_count": null,
   "metadata": {},
   "outputs": [],
   "source": []
  }
 ],
 "metadata": {
  "interpreter": {
   "hash": "247ab06e135bb35fa78c5eff31b2a9a0050dcb5fb773c2631d2a29ac689eeccb"
  },
  "kernelspec": {
   "display_name": "Python 3.9.7 64-bit",
   "language": "python",
   "name": "python3"
  },
  "language_info": {
   "codemirror_mode": {
    "name": "ipython",
    "version": 3
   },
   "file_extension": ".py",
   "mimetype": "text/x-python",
   "name": "python",
   "nbconvert_exporter": "python",
   "pygments_lexer": "ipython3",
   "version": "3.9.7"
  },
  "orig_nbformat": 4
 },
 "nbformat": 4,
 "nbformat_minor": 2
}
