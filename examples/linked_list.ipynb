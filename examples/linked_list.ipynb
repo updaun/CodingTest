{
 "cells": [
  {
   "cell_type": "markdown",
   "metadata": {},
   "source": [
    "Linked list\n",
    "- 연결 리스트, 메모리 효율을 위해 많이 사용됨(일반 리스트보다 가벼움)\n",
    "- Data field, Link field로 구성\n",
    "- visualgo 시각화 보면 좋음"
   ]
  },
  {
   "cell_type": "code",
   "execution_count": 73,
   "metadata": {},
   "outputs": [],
   "source": [
    "class Node:\n",
    "    def __init__(self, data):\n",
    "        self.data = data\n",
    "        self.next = None\n",
    "        \n",
    "\n",
    "class LinkedList:\n",
    "    def __init__(self):\n",
    "        init = Node('init')\n",
    "        self.head = init\n",
    "        self.tail = init\n",
    "\n",
    "        self.현재노드 = None\n",
    "        self.데이터수 = 0\n",
    "\n",
    "    def __len__(self):\n",
    "        return self.데이터수\n",
    "\n",
    "    def __str__(self):\n",
    "        현재노드 = self.head\n",
    "        현재노드 = 현재노드.next\n",
    "        s = ''\n",
    "        for i in range(self.데이터수):\n",
    "            s += f'{현재노드.data}, '\n",
    "            현재노드 = 현재노드.next\n",
    "        return f'[{s[:-2]}]'\n",
    "\n",
    "    def __iter__(self):\n",
    "        현재노드 = self.head\n",
    "        현재노드 = 현재노드.next\n",
    "        while 현재노드:\n",
    "            yield 현재노드.data\n",
    "            현재노드 = 현재노드.next\n",
    "\n",
    "    def append(self, data):\n",
    "        새로운노드 = Node(data)\n",
    "        self.tail.next = 새로운노드\n",
    "        self.tail = 새로운노드\n",
    "        self.데이터수 += 1\n",
    "\n",
    "    def insert(self, input_index, input_data):\n",
    "        현재노드 = self.head\n",
    "\n",
    "        for i in range(input_index):\n",
    "            현재노드 = 현재노드.next\n",
    "\n",
    "        신규노드 = Node(input_data)\n",
    "        신규노드.next = 현재노드.next\n",
    "        현재노드.next = 신규노드\n",
    "\n",
    "        self.데이터수 += 1\n",
    "\n",
    "    def pop(self):\n",
    "        마지막값 = self.tail.data\n",
    "        현재노드 = self.head\n",
    "        for i in range(self.데이터수):\n",
    "            if 현재노드.next is self.tail:\n",
    "                self.tail = 현재노드\n",
    "                break\n",
    "            현재노드 = 현재노드.next\n",
    "        self.데이터수 -=1\n",
    "        return 마지막값\n",
    "\n",
    "    def find(self, data):\n",
    "        index = -1\n",
    "        현재노드 = self.head\n",
    "\n",
    "        for i in range(self.데이터수+1):\n",
    "            if 현재노드.data == data:\n",
    "                return index\n",
    "            index += 1\n",
    "            현재노드 = 현재노드.next\n",
    "        return -1"
   ]
  },
  {
   "cell_type": "code",
   "execution_count": 74,
   "metadata": {},
   "outputs": [],
   "source": [
    "l = LinkedList()\n",
    "l.append(10)\n",
    "l.append(20)\n",
    "l.append(30)\n",
    "l.append(40)\n",
    "l.append(50)\n",
    "l.append(15)"
   ]
  },
  {
   "cell_type": "code",
   "execution_count": 75,
   "metadata": {},
   "outputs": [
    {
     "data": {
      "text/plain": [
       "15"
      ]
     },
     "execution_count": 75,
     "metadata": {},
     "output_type": "execute_result"
    }
   ],
   "source": [
    "l.tail.data"
   ]
  },
  {
   "cell_type": "code",
   "execution_count": 76,
   "metadata": {},
   "outputs": [
    {
     "data": {
      "text/plain": [
       "6"
      ]
     },
     "execution_count": 76,
     "metadata": {},
     "output_type": "execute_result"
    }
   ],
   "source": [
    "l.데이터수\n",
    "len(l)"
   ]
  },
  {
   "cell_type": "code",
   "execution_count": 77,
   "metadata": {},
   "outputs": [
    {
     "name": "stdout",
     "output_type": "stream",
     "text": [
      "[10, 20, 30, 40, 50, 15]\n"
     ]
    }
   ],
   "source": [
    "print(l)"
   ]
  },
  {
   "cell_type": "code",
   "execution_count": 78,
   "metadata": {},
   "outputs": [
    {
     "data": {
      "text/plain": [
       "15"
      ]
     },
     "execution_count": 78,
     "metadata": {},
     "output_type": "execute_result"
    }
   ],
   "source": [
    "l.pop()"
   ]
  },
  {
   "cell_type": "code",
   "execution_count": 79,
   "metadata": {},
   "outputs": [
    {
     "name": "stdout",
     "output_type": "stream",
     "text": [
      "[10, 20, 30, 40, 50]\n"
     ]
    }
   ],
   "source": [
    "print(l)"
   ]
  },
  {
   "cell_type": "code",
   "execution_count": 80,
   "metadata": {},
   "outputs": [
    {
     "data": {
      "text/plain": [
       "2"
      ]
     },
     "execution_count": 80,
     "metadata": {},
     "output_type": "execute_result"
    }
   ],
   "source": [
    "l.find(30)"
   ]
  },
  {
   "cell_type": "code",
   "execution_count": 81,
   "metadata": {},
   "outputs": [
    {
     "data": {
      "text/plain": [
       "-1"
      ]
     },
     "execution_count": 81,
     "metadata": {},
     "output_type": "execute_result"
    }
   ],
   "source": [
    "l.find(5)"
   ]
  },
  {
   "cell_type": "code",
   "execution_count": 82,
   "metadata": {},
   "outputs": [
    {
     "name": "stdout",
     "output_type": "stream",
     "text": [
      "10\n",
      "20\n",
      "30\n",
      "40\n",
      "50\n",
      "15\n"
     ]
    }
   ],
   "source": [
    "for i in l:\n",
    "    print(i)"
   ]
  },
  {
   "cell_type": "code",
   "execution_count": 83,
   "metadata": {},
   "outputs": [
    {
     "name": "stdout",
     "output_type": "stream",
     "text": [
      "[10, 20, 10000, 30, 40, 50]\n"
     ]
    }
   ],
   "source": [
    "l.insert(2, 10000)\n",
    "print(l)"
   ]
  },
  {
   "cell_type": "code",
   "execution_count": null,
   "metadata": {},
   "outputs": [],
   "source": []
  }
 ],
 "metadata": {
  "interpreter": {
   "hash": "247ab06e135bb35fa78c5eff31b2a9a0050dcb5fb773c2631d2a29ac689eeccb"
  },
  "kernelspec": {
   "display_name": "Python 3.9.7 64-bit",
   "language": "python",
   "name": "python3"
  },
  "language_info": {
   "codemirror_mode": {
    "name": "ipython",
    "version": 3
   },
   "file_extension": ".py",
   "mimetype": "text/x-python",
   "name": "python",
   "nbconvert_exporter": "python",
   "pygments_lexer": "ipython3",
   "version": "3.9.7"
  },
  "orig_nbformat": 4
 },
 "nbformat": 4,
 "nbformat_minor": 2
}
